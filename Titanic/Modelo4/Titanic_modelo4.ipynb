{
  "nbformat": 4,
  "nbformat_minor": 0,
  "metadata": {
    "colab": {
      "name": "Titanic_modelo4.ipynb",
      "provenance": [],
      "collapsed_sections": []
    },
    "kernelspec": {
      "name": "python3",
      "display_name": "Python 3"
    }
  },
  "cells": [
    {
      "cell_type": "markdown",
      "metadata": {
        "id": "gyq3uG3230yJ",
        "colab_type": "text"
      },
      "source": [
        "Importar as bibliotecas que serão usadas:"
      ]
    },
    {
      "cell_type": "code",
      "metadata": {
        "id": "J5C0kxrB16yV",
        "colab_type": "code",
        "colab": {}
      },
      "source": [
        "import pandas as pd\n",
        "import numpy as np\n",
        "from sklearn.ensemble import RandomForestClassifier\n",
        "from sklearn.model_selection import train_test_split\n",
        "from sklearn.model_selection import KFold"
      ],
      "execution_count": 16,
      "outputs": []
    },
    {
      "cell_type": "markdown",
      "metadata": {
        "id": "usQuzme44EkD",
        "colab_type": "text"
      },
      "source": [
        "Importar os dados treino e teste já criados:"
      ]
    },
    {
      "cell_type": "code",
      "metadata": {
        "id": "J16k9-zYeXWe",
        "colab_type": "code",
        "colab": {}
      },
      "source": [
        "train = pd.read_csv('/content/drive/My Drive/data/Titanic/train.csv')\n",
        "test = pd.read_csv('/content/drive/My Drive/data/Titanic/test.csv')"
      ],
      "execution_count": 17,
      "outputs": []
    },
    {
      "cell_type": "markdown",
      "metadata": {
        "id": "J6pomt624eWc",
        "colab_type": "text"
      },
      "source": [
        "Criar modelo de Machine Learning. Nesse caso, usamos o RandomForestClassifier:"
      ]
    },
    {
      "cell_type": "code",
      "metadata": {
        "id": "_43-mznjjVf_",
        "colab_type": "code",
        "colab": {}
      },
      "source": [
        "modelo = RandomForestClassifier(n_estimators=100, n_jobs=-1, random_state=0)"
      ],
      "execution_count": 18,
      "outputs": []
    },
    {
      "cell_type": "markdown",
      "metadata": {
        "id": "eJb5hYz24rXQ",
        "colab_type": "text"
      },
      "source": [
        "Juntar as variáveis que serão usadas no modelo:"
      ]
    },
    {
      "cell_type": "code",
      "metadata": {
        "id": "bu7fkmqyjVir",
        "colab_type": "code",
        "colab": {}
      },
      "source": [
        "variaveis = ['Sex_bin', 'Age']"
      ],
      "execution_count": 19,
      "outputs": []
    },
    {
      "cell_type": "markdown",
      "metadata": {
        "id": "RXxO5ijY5Pi2",
        "colab_type": "text"
      },
      "source": [
        "Criar função para transformar os dados do 'sexo' de cada passageiro para numérico, já que o modelo de ML usado não trabalha com strings:"
      ]
    },
    {
      "cell_type": "code",
      "metadata": {
        "id": "0kqvA0dJjVkx",
        "colab_type": "code",
        "colab": {}
      },
      "source": [
        "def transformar_sexo(valor) :\n",
        "  if valor == 'female' :\n",
        "    return 1\n",
        "  else:\n",
        "    return 0\n",
        "\n",
        "train['Sex_bin'] = train['Sex'].map(transformar_sexo)"
      ],
      "execution_count": 20,
      "outputs": []
    },
    {
      "cell_type": "code",
      "metadata": {
        "id": "MQyQfp0qlMM8",
        "colab_type": "code",
        "colab": {
          "base_uri": "https://localhost:8080/",
          "height": 204
        },
        "outputId": "c766b690-36c3-4729-8daf-dae28860b584"
      },
      "source": [
        "train.head()"
      ],
      "execution_count": 21,
      "outputs": [
        {
          "output_type": "execute_result",
          "data": {
            "text/html": [
              "<div>\n",
              "<style scoped>\n",
              "    .dataframe tbody tr th:only-of-type {\n",
              "        vertical-align: middle;\n",
              "    }\n",
              "\n",
              "    .dataframe tbody tr th {\n",
              "        vertical-align: top;\n",
              "    }\n",
              "\n",
              "    .dataframe thead th {\n",
              "        text-align: right;\n",
              "    }\n",
              "</style>\n",
              "<table border=\"1\" class=\"dataframe\">\n",
              "  <thead>\n",
              "    <tr style=\"text-align: right;\">\n",
              "      <th></th>\n",
              "      <th>PassengerId</th>\n",
              "      <th>Survived</th>\n",
              "      <th>Pclass</th>\n",
              "      <th>Name</th>\n",
              "      <th>Sex</th>\n",
              "      <th>Age</th>\n",
              "      <th>SibSp</th>\n",
              "      <th>Parch</th>\n",
              "      <th>Ticket</th>\n",
              "      <th>Fare</th>\n",
              "      <th>Cabin</th>\n",
              "      <th>Embarked</th>\n",
              "      <th>Sex_bin</th>\n",
              "    </tr>\n",
              "  </thead>\n",
              "  <tbody>\n",
              "    <tr>\n",
              "      <th>0</th>\n",
              "      <td>1</td>\n",
              "      <td>0</td>\n",
              "      <td>3</td>\n",
              "      <td>Braund, Mr. Owen Harris</td>\n",
              "      <td>male</td>\n",
              "      <td>22.0</td>\n",
              "      <td>1</td>\n",
              "      <td>0</td>\n",
              "      <td>A/5 21171</td>\n",
              "      <td>7.2500</td>\n",
              "      <td>NaN</td>\n",
              "      <td>S</td>\n",
              "      <td>0</td>\n",
              "    </tr>\n",
              "    <tr>\n",
              "      <th>1</th>\n",
              "      <td>2</td>\n",
              "      <td>1</td>\n",
              "      <td>1</td>\n",
              "      <td>Cumings, Mrs. John Bradley (Florence Briggs Th...</td>\n",
              "      <td>female</td>\n",
              "      <td>38.0</td>\n",
              "      <td>1</td>\n",
              "      <td>0</td>\n",
              "      <td>PC 17599</td>\n",
              "      <td>71.2833</td>\n",
              "      <td>C85</td>\n",
              "      <td>C</td>\n",
              "      <td>1</td>\n",
              "    </tr>\n",
              "    <tr>\n",
              "      <th>2</th>\n",
              "      <td>3</td>\n",
              "      <td>1</td>\n",
              "      <td>3</td>\n",
              "      <td>Heikkinen, Miss. Laina</td>\n",
              "      <td>female</td>\n",
              "      <td>26.0</td>\n",
              "      <td>0</td>\n",
              "      <td>0</td>\n",
              "      <td>STON/O2. 3101282</td>\n",
              "      <td>7.9250</td>\n",
              "      <td>NaN</td>\n",
              "      <td>S</td>\n",
              "      <td>1</td>\n",
              "    </tr>\n",
              "    <tr>\n",
              "      <th>3</th>\n",
              "      <td>4</td>\n",
              "      <td>1</td>\n",
              "      <td>1</td>\n",
              "      <td>Futrelle, Mrs. Jacques Heath (Lily May Peel)</td>\n",
              "      <td>female</td>\n",
              "      <td>35.0</td>\n",
              "      <td>1</td>\n",
              "      <td>0</td>\n",
              "      <td>113803</td>\n",
              "      <td>53.1000</td>\n",
              "      <td>C123</td>\n",
              "      <td>S</td>\n",
              "      <td>1</td>\n",
              "    </tr>\n",
              "    <tr>\n",
              "      <th>4</th>\n",
              "      <td>5</td>\n",
              "      <td>0</td>\n",
              "      <td>3</td>\n",
              "      <td>Allen, Mr. William Henry</td>\n",
              "      <td>male</td>\n",
              "      <td>35.0</td>\n",
              "      <td>0</td>\n",
              "      <td>0</td>\n",
              "      <td>373450</td>\n",
              "      <td>8.0500</td>\n",
              "      <td>NaN</td>\n",
              "      <td>S</td>\n",
              "      <td>0</td>\n",
              "    </tr>\n",
              "  </tbody>\n",
              "</table>\n",
              "</div>"
            ],
            "text/plain": [
              "   PassengerId  Survived  Pclass  ... Cabin Embarked  Sex_bin\n",
              "0            1         0       3  ...   NaN        S        0\n",
              "1            2         1       1  ...   C85        C        1\n",
              "2            3         1       3  ...   NaN        S        1\n",
              "3            4         1       1  ...  C123        S        1\n",
              "4            5         0       3  ...   NaN        S        0\n",
              "\n",
              "[5 rows x 13 columns]"
            ]
          },
          "metadata": {
            "tags": []
          },
          "execution_count": 21
        }
      ]
    },
    {
      "cell_type": "markdown",
      "metadata": {
        "id": "GqhdPwRH5oO8",
        "colab_type": "text"
      },
      "source": [
        "Separar os dados de variáveis(x) que serão usadas no teste e os resultados esperados(y) para treinar o modelo:"
      ]
    },
    {
      "cell_type": "code",
      "metadata": {
        "id": "HWjl_oEilMYr",
        "colab_type": "code",
        "colab": {}
      },
      "source": [
        "X = train[variaveis]\n",
        "Y = train['Survived']"
      ],
      "execution_count": 22,
      "outputs": []
    },
    {
      "cell_type": "markdown",
      "metadata": {
        "id": "oT9T7Wmg56ZD",
        "colab_type": "text"
      },
      "source": [
        "Foi necessário tirar os dados sem informação (NaN) e para isso, de forma simples, só transformamos eles em um número sem influência, como -1:"
      ]
    },
    {
      "cell_type": "code",
      "metadata": {
        "id": "ciQPKYQWlMbO",
        "colab_type": "code",
        "colab": {}
      },
      "source": [
        "X = X.fillna(-1)"
      ],
      "execution_count": 23,
      "outputs": []
    },
    {
      "cell_type": "markdown",
      "metadata": {
        "id": "ERIiMmUXjswW",
        "colab_type": "text"
      },
      "source": [
        "# Validação Cruzada"
      ]
    },
    {
      "cell_type": "code",
      "metadata": {
        "id": "EH_mZH0zBL3l",
        "colab_type": "code",
        "colab": {
          "base_uri": "https://localhost:8080/",
          "height": 1000
        },
        "outputId": "ec5d2fb8-c2a4-44b8-9ac0-f74d60d4a5fa"
      },
      "source": [
        "resultados = []\n",
        "for rep in range(10):\n",
        "  kf = KFold(2, shuffle=True, random_state=rep)\n",
        "  for linhas_treino, linhas_valid in kf.split(X):\n",
        "    print('Treino:', linhas_treino.shape[0])\n",
        "    print('Valid', linhas_valid.shape[0])\n",
        "\n",
        "    X_treino, X_valid = X.iloc[linhas_treino], X.iloc[linhas_valid]\n",
        "    Y_treino, Y_valid = Y.iloc[linhas_treino], Y.iloc[linhas_valid]\n",
        "\n",
        "    modelo.fit(X_treino, Y_treino)\n",
        "    prev = modelo.predict(X_valid)\n",
        "    acc = np.mean(Y_valid == prev)\n",
        "    resultados.append(acc)\n",
        "    print('Acc:', acc)\n",
        "    print()\n",
        "  \n",
        "print('Média:', np.mean(resultados))"
      ],
      "execution_count": 31,
      "outputs": [
        {
          "output_type": "stream",
          "text": [
            "Treino: 445\n",
            "Valid 446\n",
            "Acc: 0.7713004484304933\n",
            "\n",
            "Treino: 446\n",
            "Valid 445\n",
            "Acc: 0.7797752808988764\n",
            "\n",
            "Treino: 445\n",
            "Valid 446\n",
            "Acc: 0.7443946188340808\n",
            "\n",
            "Treino: 446\n",
            "Valid 445\n",
            "Acc: 0.7955056179775281\n",
            "\n",
            "Treino: 445\n",
            "Valid 446\n",
            "Acc: 0.7757847533632287\n",
            "\n",
            "Treino: 446\n",
            "Valid 445\n",
            "Acc: 0.7887640449438202\n",
            "\n",
            "Treino: 445\n",
            "Valid 446\n",
            "Acc: 0.7533632286995515\n",
            "\n",
            "Treino: 446\n",
            "Valid 445\n",
            "Acc: 0.7573033707865169\n",
            "\n",
            "Treino: 445\n",
            "Valid 446\n",
            "Acc: 0.7354260089686099\n",
            "\n",
            "Treino: 446\n",
            "Valid 445\n",
            "Acc: 0.7415730337078652\n",
            "\n",
            "Treino: 445\n",
            "Valid 446\n",
            "Acc: 0.7219730941704036\n",
            "\n",
            "Treino: 446\n",
            "Valid 445\n",
            "Acc: 0.7056179775280899\n",
            "\n",
            "Treino: 445\n",
            "Valid 446\n",
            "Acc: 0.7757847533632287\n",
            "\n",
            "Treino: 446\n",
            "Valid 445\n",
            "Acc: 0.7303370786516854\n",
            "\n",
            "Treino: 445\n",
            "Valid 446\n",
            "Acc: 0.7040358744394619\n",
            "\n",
            "Treino: 446\n",
            "Valid 445\n",
            "Acc: 0.7348314606741573\n",
            "\n",
            "Treino: 445\n",
            "Valid 446\n",
            "Acc: 0.7488789237668162\n",
            "\n",
            "Treino: 446\n",
            "Valid 445\n",
            "Acc: 0.7887640449438202\n",
            "\n",
            "Treino: 445\n",
            "Valid 446\n",
            "Acc: 0.7623318385650224\n",
            "\n",
            "Treino: 446\n",
            "Valid 445\n",
            "Acc: 0.7842696629213484\n",
            "\n",
            "Média: 0.7550007557817302\n"
          ],
          "name": "stdout"
        }
      ]
    }
  ]
}