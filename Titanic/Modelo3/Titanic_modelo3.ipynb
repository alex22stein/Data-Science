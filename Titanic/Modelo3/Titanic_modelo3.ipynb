{
  "nbformat": 4,
  "nbformat_minor": 0,
  "metadata": {
    "colab": {
      "name": "Titanic_modelo3.ipynb",
      "provenance": [],
      "collapsed_sections": []
    },
    "kernelspec": {
      "name": "python3",
      "display_name": "Python 3"
    }
  },
  "cells": [
    {
      "cell_type": "markdown",
      "metadata": {
        "id": "gyq3uG3230yJ",
        "colab_type": "text"
      },
      "source": [
        "Importar as bibliotecas que serão usadas:"
      ]
    },
    {
      "cell_type": "code",
      "metadata": {
        "id": "J5C0kxrB16yV",
        "colab_type": "code",
        "colab": {}
      },
      "source": [
        "import pandas as pd\n",
        "import numpy as np\n",
        "from sklearn.ensemble import RandomForestClassifier\n",
        "from sklearn.model_selection import train_test_split"
      ],
      "execution_count": 6,
      "outputs": []
    },
    {
      "cell_type": "markdown",
      "metadata": {
        "id": "usQuzme44EkD",
        "colab_type": "text"
      },
      "source": [
        "Importar os dados treino e teste já criados:"
      ]
    },
    {
      "cell_type": "code",
      "metadata": {
        "id": "J16k9-zYeXWe",
        "colab_type": "code",
        "colab": {}
      },
      "source": [
        "train = pd.read_csv('/content/drive/My Drive/data/Titanic/train.csv')\n",
        "test = pd.read_csv('/content/drive/My Drive/data/Titanic/test.csv')"
      ],
      "execution_count": 7,
      "outputs": []
    },
    {
      "cell_type": "markdown",
      "metadata": {
        "id": "J6pomt624eWc",
        "colab_type": "text"
      },
      "source": [
        "Criar modelo de Machine Learning. Nesse caso, usamos o RandomForestClassifier:"
      ]
    },
    {
      "cell_type": "code",
      "metadata": {
        "id": "_43-mznjjVf_",
        "colab_type": "code",
        "colab": {}
      },
      "source": [
        "modelo = RandomForestClassifier(n_estimators=100, n_jobs=-1, random_state=0)"
      ],
      "execution_count": 8,
      "outputs": []
    },
    {
      "cell_type": "markdown",
      "metadata": {
        "id": "eJb5hYz24rXQ",
        "colab_type": "text"
      },
      "source": [
        "Juntar as variáveis que serão usadas no modelo:"
      ]
    },
    {
      "cell_type": "code",
      "metadata": {
        "id": "bu7fkmqyjVir",
        "colab_type": "code",
        "colab": {}
      },
      "source": [
        "variaveis = ['Sex_bin', 'Age']"
      ],
      "execution_count": 9,
      "outputs": []
    },
    {
      "cell_type": "markdown",
      "metadata": {
        "id": "RXxO5ijY5Pi2",
        "colab_type": "text"
      },
      "source": [
        "Criar função para transformar os dados do 'sexo' de cada passageiro para numérico, já que o modelo de ML usado não trabalha com strings:"
      ]
    },
    {
      "cell_type": "code",
      "metadata": {
        "id": "0kqvA0dJjVkx",
        "colab_type": "code",
        "colab": {}
      },
      "source": [
        "def transformar_sexo(valor) :\n",
        "  if valor == 'female' :\n",
        "    return 1\n",
        "  else:\n",
        "    return 0\n",
        "\n",
        "train['Sex_bin'] = train['Sex'].map(transformar_sexo)"
      ],
      "execution_count": 10,
      "outputs": []
    },
    {
      "cell_type": "code",
      "metadata": {
        "id": "MQyQfp0qlMM8",
        "colab_type": "code",
        "colab": {
          "base_uri": "https://localhost:8080/",
          "height": 204
        },
        "outputId": "4348d171-2bf9-4721-9711-b37f5ea9d9cb"
      },
      "source": [
        "train.head()"
      ],
      "execution_count": 11,
      "outputs": [
        {
          "output_type": "execute_result",
          "data": {
            "text/html": [
              "<div>\n",
              "<style scoped>\n",
              "    .dataframe tbody tr th:only-of-type {\n",
              "        vertical-align: middle;\n",
              "    }\n",
              "\n",
              "    .dataframe tbody tr th {\n",
              "        vertical-align: top;\n",
              "    }\n",
              "\n",
              "    .dataframe thead th {\n",
              "        text-align: right;\n",
              "    }\n",
              "</style>\n",
              "<table border=\"1\" class=\"dataframe\">\n",
              "  <thead>\n",
              "    <tr style=\"text-align: right;\">\n",
              "      <th></th>\n",
              "      <th>PassengerId</th>\n",
              "      <th>Survived</th>\n",
              "      <th>Pclass</th>\n",
              "      <th>Name</th>\n",
              "      <th>Sex</th>\n",
              "      <th>Age</th>\n",
              "      <th>SibSp</th>\n",
              "      <th>Parch</th>\n",
              "      <th>Ticket</th>\n",
              "      <th>Fare</th>\n",
              "      <th>Cabin</th>\n",
              "      <th>Embarked</th>\n",
              "      <th>Sex_bin</th>\n",
              "    </tr>\n",
              "  </thead>\n",
              "  <tbody>\n",
              "    <tr>\n",
              "      <th>0</th>\n",
              "      <td>1</td>\n",
              "      <td>0</td>\n",
              "      <td>3</td>\n",
              "      <td>Braund, Mr. Owen Harris</td>\n",
              "      <td>male</td>\n",
              "      <td>22.0</td>\n",
              "      <td>1</td>\n",
              "      <td>0</td>\n",
              "      <td>A/5 21171</td>\n",
              "      <td>7.2500</td>\n",
              "      <td>NaN</td>\n",
              "      <td>S</td>\n",
              "      <td>0</td>\n",
              "    </tr>\n",
              "    <tr>\n",
              "      <th>1</th>\n",
              "      <td>2</td>\n",
              "      <td>1</td>\n",
              "      <td>1</td>\n",
              "      <td>Cumings, Mrs. John Bradley (Florence Briggs Th...</td>\n",
              "      <td>female</td>\n",
              "      <td>38.0</td>\n",
              "      <td>1</td>\n",
              "      <td>0</td>\n",
              "      <td>PC 17599</td>\n",
              "      <td>71.2833</td>\n",
              "      <td>C85</td>\n",
              "      <td>C</td>\n",
              "      <td>1</td>\n",
              "    </tr>\n",
              "    <tr>\n",
              "      <th>2</th>\n",
              "      <td>3</td>\n",
              "      <td>1</td>\n",
              "      <td>3</td>\n",
              "      <td>Heikkinen, Miss. Laina</td>\n",
              "      <td>female</td>\n",
              "      <td>26.0</td>\n",
              "      <td>0</td>\n",
              "      <td>0</td>\n",
              "      <td>STON/O2. 3101282</td>\n",
              "      <td>7.9250</td>\n",
              "      <td>NaN</td>\n",
              "      <td>S</td>\n",
              "      <td>1</td>\n",
              "    </tr>\n",
              "    <tr>\n",
              "      <th>3</th>\n",
              "      <td>4</td>\n",
              "      <td>1</td>\n",
              "      <td>1</td>\n",
              "      <td>Futrelle, Mrs. Jacques Heath (Lily May Peel)</td>\n",
              "      <td>female</td>\n",
              "      <td>35.0</td>\n",
              "      <td>1</td>\n",
              "      <td>0</td>\n",
              "      <td>113803</td>\n",
              "      <td>53.1000</td>\n",
              "      <td>C123</td>\n",
              "      <td>S</td>\n",
              "      <td>1</td>\n",
              "    </tr>\n",
              "    <tr>\n",
              "      <th>4</th>\n",
              "      <td>5</td>\n",
              "      <td>0</td>\n",
              "      <td>3</td>\n",
              "      <td>Allen, Mr. William Henry</td>\n",
              "      <td>male</td>\n",
              "      <td>35.0</td>\n",
              "      <td>0</td>\n",
              "      <td>0</td>\n",
              "      <td>373450</td>\n",
              "      <td>8.0500</td>\n",
              "      <td>NaN</td>\n",
              "      <td>S</td>\n",
              "      <td>0</td>\n",
              "    </tr>\n",
              "  </tbody>\n",
              "</table>\n",
              "</div>"
            ],
            "text/plain": [
              "   PassengerId  Survived  Pclass  ... Cabin Embarked  Sex_bin\n",
              "0            1         0       3  ...   NaN        S        0\n",
              "1            2         1       1  ...   C85        C        1\n",
              "2            3         1       3  ...   NaN        S        1\n",
              "3            4         1       1  ...  C123        S        1\n",
              "4            5         0       3  ...   NaN        S        0\n",
              "\n",
              "[5 rows x 13 columns]"
            ]
          },
          "metadata": {
            "tags": []
          },
          "execution_count": 11
        }
      ]
    },
    {
      "cell_type": "markdown",
      "metadata": {
        "id": "GqhdPwRH5oO8",
        "colab_type": "text"
      },
      "source": [
        "Separar os dados de variáveis(x) que serão usadas no teste e os resultados esperados(y) para treinar o modelo:"
      ]
    },
    {
      "cell_type": "code",
      "metadata": {
        "id": "HWjl_oEilMYr",
        "colab_type": "code",
        "colab": {}
      },
      "source": [
        "X = train[variaveis]\n",
        "Y = train['Survived']"
      ],
      "execution_count": 12,
      "outputs": []
    },
    {
      "cell_type": "markdown",
      "metadata": {
        "id": "oT9T7Wmg56ZD",
        "colab_type": "text"
      },
      "source": [
        "Foi necessário tirar os dados sem informação (NaN) e para isso, de forma simples, só transformamos eles em um número sem influência, como -1:"
      ]
    },
    {
      "cell_type": "code",
      "metadata": {
        "id": "ciQPKYQWlMbO",
        "colab_type": "code",
        "colab": {}
      },
      "source": [
        "X = X.fillna(-1)"
      ],
      "execution_count": 13,
      "outputs": []
    },
    {
      "cell_type": "markdown",
      "metadata": {
        "id": "N0IY_lM36M3k",
        "colab_type": "text"
      },
      "source": [
        "No modelo 3, não vamos comparar nosso treino com o teste, mas sim criar um novo teste (valid) pelo o que temos do treino. Muitas vezes isso é necessário e existe uma função do sklearn que faz isso:"
      ]
    },
    {
      "cell_type": "code",
      "metadata": {
        "id": "EH_mZH0zBL3l",
        "colab_type": "code",
        "colab": {}
      },
      "source": [
        "np.random.seed(0)\n",
        "X_treino, X_valid, Y_treino, Y_valid = train_test_split(X, Y, test_size = 0.5)"
      ],
      "execution_count": 19,
      "outputs": []
    },
    {
      "cell_type": "markdown",
      "metadata": {
        "id": "Nah6G-rIJG-i",
        "colab_type": "text"
      },
      "source": [
        "Para garantir que todos tem o mesmo tamanho:"
      ]
    },
    {
      "cell_type": "code",
      "metadata": {
        "id": "nmPTFOIXBmzZ",
        "colab_type": "code",
        "colab": {
          "base_uri": "https://localhost:8080/",
          "height": 34
        },
        "outputId": "d6f0d350-4bff-479e-a8e5-4b4517e976c8"
      },
      "source": [
        "X_treino.shape, X_valid.shape, Y_treino.shape, Y_valid.shape"
      ],
      "execution_count": 20,
      "outputs": [
        {
          "output_type": "execute_result",
          "data": {
            "text/plain": [
              "((445, 2), (446, 2), (445,), (446,))"
            ]
          },
          "metadata": {
            "tags": []
          },
          "execution_count": 20
        }
      ]
    },
    {
      "cell_type": "markdown",
      "metadata": {
        "id": "SaCEUNvDJMJZ",
        "colab_type": "text"
      },
      "source": [
        "Criar o modelo para os dados de treino:"
      ]
    },
    {
      "cell_type": "code",
      "metadata": {
        "id": "A825lMRvlMd_",
        "colab_type": "code",
        "colab": {
          "base_uri": "https://localhost:8080/",
          "height": 153
        },
        "outputId": "a5329aa0-a51d-4c94-d08e-d440e82c543a"
      },
      "source": [
        "modelo.fit(X_treino,Y_treino)"
      ],
      "execution_count": 21,
      "outputs": [
        {
          "output_type": "execute_result",
          "data": {
            "text/plain": [
              "RandomForestClassifier(bootstrap=True, ccp_alpha=0.0, class_weight=None,\n",
              "                       criterion='gini', max_depth=None, max_features='auto',\n",
              "                       max_leaf_nodes=None, max_samples=None,\n",
              "                       min_impurity_decrease=0.0, min_impurity_split=None,\n",
              "                       min_samples_leaf=1, min_samples_split=2,\n",
              "                       min_weight_fraction_leaf=0.0, n_estimators=100,\n",
              "                       n_jobs=-1, oob_score=False, random_state=0, verbose=0,\n",
              "                       warm_start=False)"
            ]
          },
          "metadata": {
            "tags": []
          },
          "execution_count": 21
        }
      ]
    },
    {
      "cell_type": "code",
      "metadata": {
        "id": "RWo7wZg9JQ8n",
        "colab_type": "code",
        "colab": {}
      },
      "source": [
        "Criar a previsão e comparar com o teste(valid):"
      ],
      "execution_count": null,
      "outputs": []
    },
    {
      "cell_type": "code",
      "metadata": {
        "id": "yNOf5uaQEVca",
        "colab_type": "code",
        "colab": {}
      },
      "source": [
        "prev3 = modelo.predict(X_valid)"
      ],
      "execution_count": 28,
      "outputs": []
    },
    {
      "cell_type": "code",
      "metadata": {
        "id": "KTmspKHfEm-J",
        "colab_type": "code",
        "colab": {
          "base_uri": "https://localhost:8080/",
          "height": 34
        },
        "outputId": "f0a4bb08-d60d-4575-c64c-28db6b3fce97"
      },
      "source": [
        "np.mean(Y_valid == prev3)"
      ],
      "execution_count": 29,
      "outputs": [
        {
          "output_type": "execute_result",
          "data": {
            "text/plain": [
              "0.7690582959641256"
            ]
          },
          "metadata": {
            "tags": []
          },
          "execution_count": 29
        }
      ]
    },
    {
      "cell_type": "markdown",
      "metadata": {
        "id": "kxky4cXoJaEG",
        "colab_type": "text"
      },
      "source": [
        "Para comparar com o resultado mais alto que tivemos antes, que era supondo que todas as mulheres foram salvas:"
      ]
    },
    {
      "cell_type": "code",
      "metadata": {
        "id": "_ht12THqHDfT",
        "colab_type": "code",
        "colab": {
          "base_uri": "https://localhost:8080/",
          "height": 34
        },
        "outputId": "99216953-4bcf-4525-d2a9-b59e417ff5fb"
      },
      "source": [
        "prev1 = (1 == X_valid['Sex_bin'])\n",
        "np.mean(y_valid == prev1)"
      ],
      "execution_count": 31,
      "outputs": [
        {
          "output_type": "execute_result",
          "data": {
            "text/plain": [
              "0.7825112107623319"
            ]
          },
          "metadata": {
            "tags": []
          },
          "execution_count": 31
        }
      ]
    }
  ]
}