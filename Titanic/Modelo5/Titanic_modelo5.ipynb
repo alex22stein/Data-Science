{
  "nbformat": 4,
  "nbformat_minor": 0,
  "metadata": {
    "colab": {
      "name": "Titanic_modelo5.ipynb",
      "provenance": [],
      "collapsed_sections": []
    },
    "kernelspec": {
      "name": "python3",
      "display_name": "Python 3"
    }
  },
  "cells": [
    {
      "cell_type": "markdown",
      "metadata": {
        "id": "gyq3uG3230yJ",
        "colab_type": "text"
      },
      "source": [
        "Importar as bibliotecas que serão usadas:"
      ]
    },
    {
      "cell_type": "code",
      "metadata": {
        "id": "J5C0kxrB16yV",
        "colab_type": "code",
        "colab": {}
      },
      "source": [
        "import pandas as pd\n",
        "import numpy as np\n",
        "from sklearn.ensemble import RandomForestClassifier \n",
        "from sklearn.model_selection import train_test_split\n",
        "from sklearn.model_selection import RepeatedKFold"
      ],
      "execution_count": 91,
      "outputs": []
    },
    {
      "cell_type": "markdown",
      "metadata": {
        "id": "usQuzme44EkD",
        "colab_type": "text"
      },
      "source": [
        "Importar os dados treino e teste já criados:"
      ]
    },
    {
      "cell_type": "code",
      "metadata": {
        "id": "J16k9-zYeXWe",
        "colab_type": "code",
        "colab": {}
      },
      "source": [
        "train = pd.read_csv('/content/drive/My Drive/data/Titanic/train.csv')\n",
        "test = pd.read_csv('/content/drive/My Drive/data/Titanic/test.csv')"
      ],
      "execution_count": 92,
      "outputs": []
    },
    {
      "cell_type": "markdown",
      "metadata": {
        "id": "J6pomt624eWc",
        "colab_type": "text"
      },
      "source": [
        "Criar modelo de Machine Learning. Nesse caso, usamos o RandomForestClassifier:"
      ]
    },
    {
      "cell_type": "code",
      "metadata": {
        "id": "_43-mznjjVf_",
        "colab_type": "code",
        "colab": {}
      },
      "source": [
        "modelo = RandomForestClassifier(n_estimators=100, n_jobs=-1, random_state=0)"
      ],
      "execution_count": 93,
      "outputs": []
    },
    {
      "cell_type": "markdown",
      "metadata": {
        "id": "eJb5hYz24rXQ",
        "colab_type": "text"
      },
      "source": [
        "Juntar as variáveis que serão usadas no modelo:"
      ]
    },
    {
      "cell_type": "code",
      "metadata": {
        "id": "bu7fkmqyjVir",
        "colab_type": "code",
        "colab": {}
      },
      "source": [
        "variaveis = ['Sex_bin', 'Age', 'Pclass', 'SibSp', 'Parch', 'Fare']"
      ],
      "execution_count": 94,
      "outputs": []
    },
    {
      "cell_type": "markdown",
      "metadata": {
        "id": "RXxO5ijY5Pi2",
        "colab_type": "text"
      },
      "source": [
        "Criar função para transformar os dados do 'sexo' de cada passageiro para numérico, já que o modelo de ML usado não trabalha com strings:"
      ]
    },
    {
      "cell_type": "code",
      "metadata": {
        "id": "0kqvA0dJjVkx",
        "colab_type": "code",
        "colab": {}
      },
      "source": [
        "def transformar_sexo(valor) :\n",
        "  if valor == 'female' :\n",
        "    return 1\n",
        "  else:\n",
        "    return 0\n",
        "\n",
        "train['Sex_bin'] = train['Sex'].map(transformar_sexo)\n",
        "test['Sex_bin'] = test['Sex'].map(transformar_sexo)"
      ],
      "execution_count": 95,
      "outputs": []
    },
    {
      "cell_type": "code",
      "metadata": {
        "id": "MQyQfp0qlMM8",
        "colab_type": "code",
        "colab": {
          "base_uri": "https://localhost:8080/",
          "height": 204
        },
        "outputId": "76db2a2d-970a-44f5-a712-f0e41617cfb8"
      },
      "source": [
        "\n",
        "test.head()"
      ],
      "execution_count": 96,
      "outputs": [
        {
          "output_type": "execute_result",
          "data": {
            "text/html": [
              "<div>\n",
              "<style scoped>\n",
              "    .dataframe tbody tr th:only-of-type {\n",
              "        vertical-align: middle;\n",
              "    }\n",
              "\n",
              "    .dataframe tbody tr th {\n",
              "        vertical-align: top;\n",
              "    }\n",
              "\n",
              "    .dataframe thead th {\n",
              "        text-align: right;\n",
              "    }\n",
              "</style>\n",
              "<table border=\"1\" class=\"dataframe\">\n",
              "  <thead>\n",
              "    <tr style=\"text-align: right;\">\n",
              "      <th></th>\n",
              "      <th>PassengerId</th>\n",
              "      <th>Pclass</th>\n",
              "      <th>Name</th>\n",
              "      <th>Sex</th>\n",
              "      <th>Age</th>\n",
              "      <th>SibSp</th>\n",
              "      <th>Parch</th>\n",
              "      <th>Ticket</th>\n",
              "      <th>Fare</th>\n",
              "      <th>Cabin</th>\n",
              "      <th>Embarked</th>\n",
              "      <th>Sex_bin</th>\n",
              "    </tr>\n",
              "  </thead>\n",
              "  <tbody>\n",
              "    <tr>\n",
              "      <th>0</th>\n",
              "      <td>892</td>\n",
              "      <td>3</td>\n",
              "      <td>Kelly, Mr. James</td>\n",
              "      <td>male</td>\n",
              "      <td>34.5</td>\n",
              "      <td>0</td>\n",
              "      <td>0</td>\n",
              "      <td>330911</td>\n",
              "      <td>7.8292</td>\n",
              "      <td>NaN</td>\n",
              "      <td>Q</td>\n",
              "      <td>0</td>\n",
              "    </tr>\n",
              "    <tr>\n",
              "      <th>1</th>\n",
              "      <td>893</td>\n",
              "      <td>3</td>\n",
              "      <td>Wilkes, Mrs. James (Ellen Needs)</td>\n",
              "      <td>female</td>\n",
              "      <td>47.0</td>\n",
              "      <td>1</td>\n",
              "      <td>0</td>\n",
              "      <td>363272</td>\n",
              "      <td>7.0000</td>\n",
              "      <td>NaN</td>\n",
              "      <td>S</td>\n",
              "      <td>1</td>\n",
              "    </tr>\n",
              "    <tr>\n",
              "      <th>2</th>\n",
              "      <td>894</td>\n",
              "      <td>2</td>\n",
              "      <td>Myles, Mr. Thomas Francis</td>\n",
              "      <td>male</td>\n",
              "      <td>62.0</td>\n",
              "      <td>0</td>\n",
              "      <td>0</td>\n",
              "      <td>240276</td>\n",
              "      <td>9.6875</td>\n",
              "      <td>NaN</td>\n",
              "      <td>Q</td>\n",
              "      <td>0</td>\n",
              "    </tr>\n",
              "    <tr>\n",
              "      <th>3</th>\n",
              "      <td>895</td>\n",
              "      <td>3</td>\n",
              "      <td>Wirz, Mr. Albert</td>\n",
              "      <td>male</td>\n",
              "      <td>27.0</td>\n",
              "      <td>0</td>\n",
              "      <td>0</td>\n",
              "      <td>315154</td>\n",
              "      <td>8.6625</td>\n",
              "      <td>NaN</td>\n",
              "      <td>S</td>\n",
              "      <td>0</td>\n",
              "    </tr>\n",
              "    <tr>\n",
              "      <th>4</th>\n",
              "      <td>896</td>\n",
              "      <td>3</td>\n",
              "      <td>Hirvonen, Mrs. Alexander (Helga E Lindqvist)</td>\n",
              "      <td>female</td>\n",
              "      <td>22.0</td>\n",
              "      <td>1</td>\n",
              "      <td>1</td>\n",
              "      <td>3101298</td>\n",
              "      <td>12.2875</td>\n",
              "      <td>NaN</td>\n",
              "      <td>S</td>\n",
              "      <td>1</td>\n",
              "    </tr>\n",
              "  </tbody>\n",
              "</table>\n",
              "</div>"
            ],
            "text/plain": [
              "   PassengerId  Pclass  ... Embarked Sex_bin\n",
              "0          892       3  ...        Q       0\n",
              "1          893       3  ...        S       1\n",
              "2          894       2  ...        Q       0\n",
              "3          895       3  ...        S       0\n",
              "4          896       3  ...        S       1\n",
              "\n",
              "[5 rows x 12 columns]"
            ]
          },
          "metadata": {
            "tags": []
          },
          "execution_count": 96
        }
      ]
    },
    {
      "cell_type": "markdown",
      "metadata": {
        "id": "GqhdPwRH5oO8",
        "colab_type": "text"
      },
      "source": [
        "Separar os dados de variáveis(x) que serão usadas no teste e os resultados esperados(y) para treinar o modelo:"
      ]
    },
    {
      "cell_type": "code",
      "metadata": {
        "id": "HWjl_oEilMYr",
        "colab_type": "code",
        "colab": {}
      },
      "source": [
        "X = train[variaveis]\n",
        "Y = train['Survived']"
      ],
      "execution_count": 97,
      "outputs": []
    },
    {
      "cell_type": "markdown",
      "metadata": {
        "id": "oT9T7Wmg56ZD",
        "colab_type": "text"
      },
      "source": [
        "Foi necessário tirar os dados sem informação (NaN) e para isso, de forma simples, só transformamos eles em um número sem influência, como -1:"
      ]
    },
    {
      "cell_type": "code",
      "metadata": {
        "id": "ciQPKYQWlMbO",
        "colab_type": "code",
        "colab": {}
      },
      "source": [
        "X = X.fillna(-1)\n",
        "test[variaveis] = test[variaveis].fillna(-1)"
      ],
      "execution_count": 105,
      "outputs": []
    },
    {
      "cell_type": "markdown",
      "metadata": {
        "id": "ERIiMmUXjswW",
        "colab_type": "text"
      },
      "source": [
        "# Validação Cruzada"
      ]
    },
    {
      "cell_type": "code",
      "metadata": {
        "id": "EH_mZH0zBL3l",
        "colab_type": "code",
        "colab": {
          "base_uri": "https://localhost:8080/",
          "height": 1000
        },
        "outputId": "c18494e0-4e34-4f68-bba6-751f5dede1d7"
      },
      "source": [
        "resultados = []\n",
        "i = 0\n",
        "kf = RepeatedKFold(n_splits=2, n_repeats=10, random_state=1)\n",
        "for linhas_treino, linhas_valid in kf.split(X):\n",
        "  i = i + 1\n",
        "  print('Repetição', i)\n",
        "  print('Treino:', linhas_treino.shape[0])\n",
        "  print('Valid', linhas_valid.shape[0])\n",
        "\n",
        "  X_treino, X_valid = X.iloc[linhas_treino], X.iloc[linhas_valid]\n",
        "  Y_treino, Y_valid = Y.iloc[linhas_treino], Y.iloc[linhas_valid]\n",
        "\n",
        "  modelo.fit(X_treino, Y_treino)\n",
        "  prev = modelo.predict(X_valid)\n",
        "  acc = np.mean(Y_valid == prev)\n",
        "  resultados.append(acc)\n",
        "  print('Acc:', acc)\n",
        "  print()\n",
        "  \n",
        "print('Média:', np.mean(resultados))"
      ],
      "execution_count": 99,
      "outputs": [
        {
          "output_type": "stream",
          "text": [
            "Repetição 1\n",
            "Treino: 445\n",
            "Valid 446\n",
            "Acc: 0.7847533632286996\n",
            "\n",
            "Repetição 2\n",
            "Treino: 446\n",
            "Valid 445\n",
            "Acc: 0.8292134831460675\n",
            "\n",
            "Repetição 3\n",
            "Treino: 445\n",
            "Valid 446\n",
            "Acc: 0.7757847533632287\n",
            "\n",
            "Repetição 4\n",
            "Treino: 446\n",
            "Valid 445\n",
            "Acc: 0.8224719101123595\n",
            "\n",
            "Repetição 5\n",
            "Treino: 445\n",
            "Valid 446\n",
            "Acc: 0.8026905829596412\n",
            "\n",
            "Repetição 6\n",
            "Treino: 446\n",
            "Valid 445\n",
            "Acc: 0.7820224719101123\n",
            "\n",
            "Repetição 7\n",
            "Treino: 445\n",
            "Valid 446\n",
            "Acc: 0.773542600896861\n",
            "\n",
            "Repetição 8\n",
            "Treino: 446\n",
            "Valid 445\n",
            "Acc: 0.7955056179775281\n",
            "\n",
            "Repetição 9\n",
            "Treino: 445\n",
            "Valid 446\n",
            "Acc: 0.8026905829596412\n",
            "\n",
            "Repetição 10\n",
            "Treino: 446\n",
            "Valid 445\n",
            "Acc: 0.8247191011235955\n",
            "\n",
            "Repetição 11\n",
            "Treino: 445\n",
            "Valid 446\n",
            "Acc: 0.7914798206278026\n",
            "\n",
            "Repetição 12\n",
            "Treino: 446\n",
            "Valid 445\n",
            "Acc: 0.802247191011236\n",
            "\n",
            "Repetição 13\n",
            "Treino: 445\n",
            "Valid 446\n",
            "Acc: 0.8139013452914798\n",
            "\n",
            "Repetição 14\n",
            "Treino: 446\n",
            "Valid 445\n",
            "Acc: 0.8067415730337079\n",
            "\n",
            "Repetição 15\n",
            "Treino: 445\n",
            "Valid 446\n",
            "Acc: 0.820627802690583\n",
            "\n",
            "Repetição 16\n",
            "Treino: 446\n",
            "Valid 445\n",
            "Acc: 0.7887640449438202\n",
            "\n",
            "Repetição 17\n",
            "Treino: 445\n",
            "Valid 446\n",
            "Acc: 0.8004484304932735\n",
            "\n",
            "Repetição 18\n",
            "Treino: 446\n",
            "Valid 445\n",
            "Acc: 0.7955056179775281\n",
            "\n",
            "Repetição 19\n",
            "Treino: 445\n",
            "Valid 446\n",
            "Acc: 0.7982062780269058\n",
            "\n",
            "Repetição 20\n",
            "Treino: 446\n",
            "Valid 445\n",
            "Acc: 0.7707865168539326\n",
            "\n",
            "Média: 0.7991051544314003\n"
          ],
          "name": "stdout"
        }
      ]
    },
    {
      "cell_type": "code",
      "metadata": {
        "id": "uRfMqDube41G",
        "colab_type": "code",
        "colab": {}
      },
      "source": [
        "#%matplotlib inline\n",
        "#%pylab inline"
      ],
      "execution_count": 100,
      "outputs": []
    },
    {
      "cell_type": "code",
      "metadata": {
        "id": "3pwfgCOOfPdf",
        "colab_type": "code",
        "colab": {
          "base_uri": "https://localhost:8080/",
          "height": 350
        },
        "outputId": "29078361-aaf5-45ad-dce3-027c0595df7f"
      },
      "source": [
        "pylab.hist(resultados)"
      ],
      "execution_count": 101,
      "outputs": [
        {
          "output_type": "execute_result",
          "data": {
            "text/plain": [
              "(array([3., 1., 1., 2., 3., 4., 1., 1., 2., 2.]),\n",
              " array([0.77078652, 0.77662921, 0.78247191, 0.78831461, 0.7941573 ,\n",
              "        0.8       , 0.8058427 , 0.81168539, 0.81752809, 0.82337079,\n",
              "        0.82921348]),\n",
              " <a list of 10 Patch objects>)"
            ]
          },
          "metadata": {
            "tags": []
          },
          "execution_count": 101
        },
        {
          "output_type": "display_data",
          "data": {
            "image/png": "[encoded data removed]",
            "text/plain": [
              "<Figure size 432x288 with 1 Axes>"
            ]
          },
          "metadata": {
            "tags": [],
            "needs_background": "light"
          }
        }
      ]
    },
    {
      "cell_type": "markdown",
      "metadata": {
        "id": "gZq6y2GoidBG",
        "colab_type": "text"
      },
      "source": [
        "Usando Sex_bin e Age : Média: 0.757"
      ]
    },
    {
      "cell_type": "markdown",
      "metadata": {
        "id": "iChMRaNgj74u",
        "colab_type": "text"
      },
      "source": [
        "Usando Sex_bin, Age, Pclass, SibSp, Parch e Fare : Média: 0.799"
      ]
    },
    {
      "cell_type": "markdown",
      "metadata": {
        "id": "DO5IxBvGlx7W",
        "colab_type": "text"
      },
      "source": [
        "# Retreinar o modelo"
      ]
    },
    {
      "cell_type": "code",
      "metadata": {
        "id": "0-1sP-ytiiCE",
        "colab_type": "code",
        "colab": {}
      },
      "source": [
        "modelo.fit(X, Y)\n",
        "prev = modelo.predict(test[variaveis])\n"
      ],
      "execution_count": 106,
      "outputs": []
    },
    {
      "cell_type": "code",
      "metadata": {
        "id": "BZ9HdV-IiiKI",
        "colab_type": "code",
        "colab": {}
      },
      "source": [
        "sub = pd.Series(prev, index=test['PassengerId'], name='Survived')"
      ],
      "execution_count": 108,
      "outputs": []
    },
    {
      "cell_type": "code",
      "metadata": {
        "id": "KuJq1D6kiiOJ",
        "colab_type": "code",
        "colab": {
          "base_uri": "https://localhost:8080/",
          "height": 34
        },
        "outputId": "0b749082-0b9d-4e3d-ba47-431f76d37a9e"
      },
      "source": [
        "sub.shape"
      ],
      "execution_count": 109,
      "outputs": [
        {
          "output_type": "execute_result",
          "data": {
            "text/plain": [
              "(418,)"
            ]
          },
          "metadata": {
            "tags": []
          },
          "execution_count": 109
        }
      ]
    },
    {
      "cell_type": "code",
      "metadata": {
        "id": "B6Y5GlY-IOGm",
        "colab_type": "code",
        "colab": {}
      },
      "source": [
        "sub.to_csv('quinto_modelo.csv')"
      ],
      "execution_count": 112,
      "outputs": []
    },
    {
      "cell_type": "code",
      "metadata": {
        "id": "sdrdWgBnIOQd",
        "colab_type": "code",
        "colab": {
          "base_uri": "https://localhost:8080/",
          "height": 34
        },
        "outputId": "f73caa1f-3d60-4668-f658-40809a2b0995"
      },
      "source": [
        "!head -n10 primeiro_modelo.csv"
      ],
      "execution_count": 113,
      "outputs": [
        {
          "output_type": "stream",
          "text": [
            "head: cannot open 'primeiro_modelo.csv' for reading: No such file or directory\n"
          ],
          "name": "stdout"
        }
      ]
    }
  ]
}