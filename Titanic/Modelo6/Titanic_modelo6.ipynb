{
  "nbformat": 4,
  "nbformat_minor": 0,
  "metadata": {
    "colab": {
      "name": "Titanic_modelo6.ipynb",
      "provenance": [],
      "collapsed_sections": []
    },
    "kernelspec": {
      "name": "python3",
      "display_name": "Python 3"
    }
  },
  "cells": [
    {
      "cell_type": "markdown",
      "metadata": {
        "id": "gyq3uG3230yJ",
        "colab_type": "text"
      },
      "source": [
        "Importar as bibliotecas que serão usadas:"
      ]
    },
    {
      "cell_type": "code",
      "metadata": {
        "id": "J5C0kxrB16yV",
        "colab_type": "code",
        "colab": {}
      },
      "source": [
        "import pandas as pd\n",
        "import numpy as np\n",
        "from sklearn.ensemble import RandomForestClassifier \n",
        "from sklearn.model_selection import train_test_split\n",
        "from sklearn.model_selection import RepeatedKFold"
      ],
      "execution_count": 41,
      "outputs": []
    },
    {
      "cell_type": "markdown",
      "metadata": {
        "id": "usQuzme44EkD",
        "colab_type": "text"
      },
      "source": [
        "Importar os dados treino e teste já criados:"
      ]
    },
    {
      "cell_type": "code",
      "metadata": {
        "id": "J16k9-zYeXWe",
        "colab_type": "code",
        "colab": {}
      },
      "source": [
        "train = pd.read_csv('/content/drive/My Drive/data/Titanic/train.csv')\n",
        "test = pd.read_csv('/content/drive/My Drive/data/Titanic/test.csv')"
      ],
      "execution_count": 42,
      "outputs": []
    },
    {
      "cell_type": "markdown",
      "metadata": {
        "id": "J6pomt624eWc",
        "colab_type": "text"
      },
      "source": [
        "Criar modelo de Machine Learning. Nesse caso, usamos o RandomForestClassifier:"
      ]
    },
    {
      "cell_type": "code",
      "metadata": {
        "id": "_43-mznjjVf_",
        "colab_type": "code",
        "colab": {}
      },
      "source": [
        "modelo = RandomForestClassifier(n_estimators=100, n_jobs=-1, random_state=0)"
      ],
      "execution_count": 43,
      "outputs": []
    },
    {
      "cell_type": "markdown",
      "metadata": {
        "id": "eJb5hYz24rXQ",
        "colab_type": "text"
      },
      "source": [
        "Juntar as variáveis que serão usadas no modelo:"
      ]
    },
    {
      "cell_type": "code",
      "metadata": {
        "id": "bu7fkmqyjVir",
        "colab_type": "code",
        "colab": {}
      },
      "source": [
        "variaveis = ['Sex_bin', 'Age', 'Pclass', 'SibSp', 'Parch', 'Fare']"
      ],
      "execution_count": 82,
      "outputs": []
    },
    {
      "cell_type": "markdown",
      "metadata": {
        "id": "RXxO5ijY5Pi2",
        "colab_type": "text"
      },
      "source": [
        "Criar função para transformar os dados do 'sexo' de cada passageiro para numérico, já que o modelo de ML usado não trabalha com strings:"
      ]
    },
    {
      "cell_type": "code",
      "metadata": {
        "id": "0kqvA0dJjVkx",
        "colab_type": "code",
        "colab": {}
      },
      "source": [
        "def transformar_sexo(valor) :\n",
        "  if valor == 'female' :\n",
        "    return 1\n",
        "  else:\n",
        "    return 0\n",
        "\n",
        "train['Sex_bin'] = train['Sex'].map(transformar_sexo)\n",
        "test['Sex_bin'] = test['Sex'].map(transformar_sexo)"
      ],
      "execution_count": 45,
      "outputs": []
    },
    {
      "cell_type": "code",
      "metadata": {
        "id": "MQyQfp0qlMM8",
        "colab_type": "code",
        "colab": {
          "base_uri": "https://localhost:8080/",
          "height": 204
        },
        "outputId": "2d7959ee-0534-4a27-8f40-43b0829ae879"
      },
      "source": [
        "\n",
        "test.head()"
      ],
      "execution_count": 46,
      "outputs": [
        {
          "output_type": "execute_result",
          "data": {
            "text/html": [
              "<div>\n",
              "<style scoped>\n",
              "    .dataframe tbody tr th:only-of-type {\n",
              "        vertical-align: middle;\n",
              "    }\n",
              "\n",
              "    .dataframe tbody tr th {\n",
              "        vertical-align: top;\n",
              "    }\n",
              "\n",
              "    .dataframe thead th {\n",
              "        text-align: right;\n",
              "    }\n",
              "</style>\n",
              "<table border=\"1\" class=\"dataframe\">\n",
              "  <thead>\n",
              "    <tr style=\"text-align: right;\">\n",
              "      <th></th>\n",
              "      <th>PassengerId</th>\n",
              "      <th>Pclass</th>\n",
              "      <th>Name</th>\n",
              "      <th>Sex</th>\n",
              "      <th>Age</th>\n",
              "      <th>SibSp</th>\n",
              "      <th>Parch</th>\n",
              "      <th>Ticket</th>\n",
              "      <th>Fare</th>\n",
              "      <th>Cabin</th>\n",
              "      <th>Embarked</th>\n",
              "      <th>Sex_bin</th>\n",
              "    </tr>\n",
              "  </thead>\n",
              "  <tbody>\n",
              "    <tr>\n",
              "      <th>0</th>\n",
              "      <td>892</td>\n",
              "      <td>3</td>\n",
              "      <td>Kelly, Mr. James</td>\n",
              "      <td>male</td>\n",
              "      <td>34.5</td>\n",
              "      <td>0</td>\n",
              "      <td>0</td>\n",
              "      <td>330911</td>\n",
              "      <td>7.8292</td>\n",
              "      <td>NaN</td>\n",
              "      <td>Q</td>\n",
              "      <td>0</td>\n",
              "    </tr>\n",
              "    <tr>\n",
              "      <th>1</th>\n",
              "      <td>893</td>\n",
              "      <td>3</td>\n",
              "      <td>Wilkes, Mrs. James (Ellen Needs)</td>\n",
              "      <td>female</td>\n",
              "      <td>47.0</td>\n",
              "      <td>1</td>\n",
              "      <td>0</td>\n",
              "      <td>363272</td>\n",
              "      <td>7.0000</td>\n",
              "      <td>NaN</td>\n",
              "      <td>S</td>\n",
              "      <td>1</td>\n",
              "    </tr>\n",
              "    <tr>\n",
              "      <th>2</th>\n",
              "      <td>894</td>\n",
              "      <td>2</td>\n",
              "      <td>Myles, Mr. Thomas Francis</td>\n",
              "      <td>male</td>\n",
              "      <td>62.0</td>\n",
              "      <td>0</td>\n",
              "      <td>0</td>\n",
              "      <td>240276</td>\n",
              "      <td>9.6875</td>\n",
              "      <td>NaN</td>\n",
              "      <td>Q</td>\n",
              "      <td>0</td>\n",
              "    </tr>\n",
              "    <tr>\n",
              "      <th>3</th>\n",
              "      <td>895</td>\n",
              "      <td>3</td>\n",
              "      <td>Wirz, Mr. Albert</td>\n",
              "      <td>male</td>\n",
              "      <td>27.0</td>\n",
              "      <td>0</td>\n",
              "      <td>0</td>\n",
              "      <td>315154</td>\n",
              "      <td>8.6625</td>\n",
              "      <td>NaN</td>\n",
              "      <td>S</td>\n",
              "      <td>0</td>\n",
              "    </tr>\n",
              "    <tr>\n",
              "      <th>4</th>\n",
              "      <td>896</td>\n",
              "      <td>3</td>\n",
              "      <td>Hirvonen, Mrs. Alexander (Helga E Lindqvist)</td>\n",
              "      <td>female</td>\n",
              "      <td>22.0</td>\n",
              "      <td>1</td>\n",
              "      <td>1</td>\n",
              "      <td>3101298</td>\n",
              "      <td>12.2875</td>\n",
              "      <td>NaN</td>\n",
              "      <td>S</td>\n",
              "      <td>1</td>\n",
              "    </tr>\n",
              "  </tbody>\n",
              "</table>\n",
              "</div>"
            ],
            "text/plain": [
              "   PassengerId  Pclass  ... Embarked Sex_bin\n",
              "0          892       3  ...        Q       0\n",
              "1          893       3  ...        S       1\n",
              "2          894       2  ...        Q       0\n",
              "3          895       3  ...        S       0\n",
              "4          896       3  ...        S       1\n",
              "\n",
              "[5 rows x 12 columns]"
            ]
          },
          "metadata": {
            "tags": []
          },
          "execution_count": 46
        }
      ]
    },
    {
      "cell_type": "markdown",
      "metadata": {
        "id": "GqhdPwRH5oO8",
        "colab_type": "text"
      },
      "source": [
        "Separar os dados de variáveis(x) que serão usadas no teste e os resultados esperados(y) para treinar o modelo:"
      ]
    },
    {
      "cell_type": "code",
      "metadata": {
        "id": "HWjl_oEilMYr",
        "colab_type": "code",
        "colab": {}
      },
      "source": [
        "X = train[variaveis]\n",
        "Y = train['Survived']"
      ],
      "execution_count": 83,
      "outputs": []
    },
    {
      "cell_type": "markdown",
      "metadata": {
        "id": "oT9T7Wmg56ZD",
        "colab_type": "text"
      },
      "source": [
        "Foi necessário tirar os dados sem informação (NaN) e para isso, de forma simples, só transformamos eles em um número sem influência, como -1:"
      ]
    },
    {
      "cell_type": "code",
      "metadata": {
        "id": "ciQPKYQWlMbO",
        "colab_type": "code",
        "colab": {}
      },
      "source": [
        "X = X.fillna(-1)\n",
        "test[variaveis] = test[variaveis].fillna(-1)"
      ],
      "execution_count": 84,
      "outputs": []
    },
    {
      "cell_type": "markdown",
      "metadata": {
        "id": "ERIiMmUXjswW",
        "colab_type": "text"
      },
      "source": [
        "# Validação Cruzada"
      ]
    },
    {
      "cell_type": "code",
      "metadata": {
        "id": "EH_mZH0zBL3l",
        "colab_type": "code",
        "colab": {
          "base_uri": "https://localhost:8080/",
          "height": 1000
        },
        "outputId": "01082d1e-21b1-4589-9136-9ebf2421aedc"
      },
      "source": [
        "resultados = []\n",
        "i = 0\n",
        "kf = RepeatedKFold(n_splits=2, n_repeats=10, random_state=1)\n",
        "for linhas_treino, linhas_valid in kf.split(X):\n",
        "  i = i + 1\n",
        "  print('Repetição', i)\n",
        "  print('Treino:', linhas_treino.shape[0])\n",
        "  print('Valid', linhas_valid.shape[0])\n",
        "\n",
        "  X_treino, X_valid = X.iloc[linhas_treino], X.iloc[linhas_valid]\n",
        "  Y_treino, Y_valid = Y.iloc[linhas_treino], Y.iloc[linhas_valid]\n",
        "\n",
        "  modelo.fit(X_treino, Y_treino)\n",
        "  prev = modelo.predict(X_valid)\n",
        "  acc = np.mean(Y_valid == prev)\n",
        "  resultados.append(acc)\n",
        "  print('Acc:', acc)\n",
        "  print()\n",
        "  \n",
        "print('Média:', np.mean(resultados))"
      ],
      "execution_count": 85,
      "outputs": [
        {
          "output_type": "stream",
          "text": [
            "Repetição 1\n",
            "Treino: 445\n",
            "Valid 446\n",
            "Acc: 0.7847533632286996\n",
            "\n",
            "Repetição 2\n",
            "Treino: 446\n",
            "Valid 445\n",
            "Acc: 0.8292134831460675\n",
            "\n",
            "Repetição 3\n",
            "Treino: 445\n",
            "Valid 446\n",
            "Acc: 0.7757847533632287\n",
            "\n",
            "Repetição 4\n",
            "Treino: 446\n",
            "Valid 445\n",
            "Acc: 0.8224719101123595\n",
            "\n",
            "Repetição 5\n",
            "Treino: 445\n",
            "Valid 446\n",
            "Acc: 0.8026905829596412\n",
            "\n",
            "Repetição 6\n",
            "Treino: 446\n",
            "Valid 445\n",
            "Acc: 0.7820224719101123\n",
            "\n",
            "Repetição 7\n",
            "Treino: 445\n",
            "Valid 446\n",
            "Acc: 0.773542600896861\n",
            "\n",
            "Repetição 8\n",
            "Treino: 446\n",
            "Valid 445\n",
            "Acc: 0.7955056179775281\n",
            "\n",
            "Repetição 9\n",
            "Treino: 445\n",
            "Valid 446\n",
            "Acc: 0.8026905829596412\n",
            "\n",
            "Repetição 10\n",
            "Treino: 446\n",
            "Valid 445\n",
            "Acc: 0.8247191011235955\n",
            "\n",
            "Repetição 11\n",
            "Treino: 445\n",
            "Valid 446\n",
            "Acc: 0.7914798206278026\n",
            "\n",
            "Repetição 12\n",
            "Treino: 446\n",
            "Valid 445\n",
            "Acc: 0.802247191011236\n",
            "\n",
            "Repetição 13\n",
            "Treino: 445\n",
            "Valid 446\n",
            "Acc: 0.8139013452914798\n",
            "\n",
            "Repetição 14\n",
            "Treino: 446\n",
            "Valid 445\n",
            "Acc: 0.8067415730337079\n",
            "\n",
            "Repetição 15\n",
            "Treino: 445\n",
            "Valid 446\n",
            "Acc: 0.820627802690583\n",
            "\n",
            "Repetição 16\n",
            "Treino: 446\n",
            "Valid 445\n",
            "Acc: 0.7887640449438202\n",
            "\n",
            "Repetição 17\n",
            "Treino: 445\n",
            "Valid 446\n",
            "Acc: 0.8004484304932735\n",
            "\n",
            "Repetição 18\n",
            "Treino: 446\n",
            "Valid 445\n",
            "Acc: 0.7955056179775281\n",
            "\n",
            "Repetição 19\n",
            "Treino: 445\n",
            "Valid 446\n",
            "Acc: 0.7982062780269058\n",
            "\n",
            "Repetição 20\n",
            "Treino: 446\n",
            "Valid 445\n",
            "Acc: 0.7707865168539326\n",
            "\n",
            "Média: 0.7991051544314003\n"
          ],
          "name": "stdout"
        }
      ]
    },
    {
      "cell_type": "code",
      "metadata": {
        "id": "5bQ4_LktEQjR",
        "colab_type": "code",
        "colab": {
          "base_uri": "https://localhost:8080/",
          "height": 204
        },
        "outputId": "ee7aedbd-19f3-4cbd-f7c0-d8a35701f7cd"
      },
      "source": [
        "X_valid_check = train.iloc[linhas_valid].copy()\n",
        "X_valid_check['prev'] = prev\n",
        "X_valid_check.head()"
      ],
      "execution_count": 60,
      "outputs": [
        {
          "output_type": "execute_result",
          "data": {
            "text/html": [
              "<div>\n",
              "<style scoped>\n",
              "    .dataframe tbody tr th:only-of-type {\n",
              "        vertical-align: middle;\n",
              "    }\n",
              "\n",
              "    .dataframe tbody tr th {\n",
              "        vertical-align: top;\n",
              "    }\n",
              "\n",
              "    .dataframe thead th {\n",
              "        text-align: right;\n",
              "    }\n",
              "</style>\n",
              "<table border=\"1\" class=\"dataframe\">\n",
              "  <thead>\n",
              "    <tr style=\"text-align: right;\">\n",
              "      <th></th>\n",
              "      <th>PassengerId</th>\n",
              "      <th>Survived</th>\n",
              "      <th>Pclass</th>\n",
              "      <th>Name</th>\n",
              "      <th>Sex</th>\n",
              "      <th>Age</th>\n",
              "      <th>SibSp</th>\n",
              "      <th>Parch</th>\n",
              "      <th>Ticket</th>\n",
              "      <th>Fare</th>\n",
              "      <th>Cabin</th>\n",
              "      <th>Embarked</th>\n",
              "      <th>Sex_bin</th>\n",
              "      <th>prev</th>\n",
              "    </tr>\n",
              "  </thead>\n",
              "  <tbody>\n",
              "    <tr>\n",
              "      <th>0</th>\n",
              "      <td>1</td>\n",
              "      <td>0</td>\n",
              "      <td>3</td>\n",
              "      <td>Braund, Mr. Owen Harris</td>\n",
              "      <td>male</td>\n",
              "      <td>22.0</td>\n",
              "      <td>1</td>\n",
              "      <td>0</td>\n",
              "      <td>A/5 21171</td>\n",
              "      <td>7.2500</td>\n",
              "      <td>NaN</td>\n",
              "      <td>S</td>\n",
              "      <td>0</td>\n",
              "      <td>0</td>\n",
              "    </tr>\n",
              "    <tr>\n",
              "      <th>3</th>\n",
              "      <td>4</td>\n",
              "      <td>1</td>\n",
              "      <td>1</td>\n",
              "      <td>Futrelle, Mrs. Jacques Heath (Lily May Peel)</td>\n",
              "      <td>female</td>\n",
              "      <td>35.0</td>\n",
              "      <td>1</td>\n",
              "      <td>0</td>\n",
              "      <td>113803</td>\n",
              "      <td>53.1000</td>\n",
              "      <td>C123</td>\n",
              "      <td>S</td>\n",
              "      <td>1</td>\n",
              "      <td>1</td>\n",
              "    </tr>\n",
              "    <tr>\n",
              "      <th>5</th>\n",
              "      <td>6</td>\n",
              "      <td>0</td>\n",
              "      <td>3</td>\n",
              "      <td>Moran, Mr. James</td>\n",
              "      <td>male</td>\n",
              "      <td>NaN</td>\n",
              "      <td>0</td>\n",
              "      <td>0</td>\n",
              "      <td>330877</td>\n",
              "      <td>8.4583</td>\n",
              "      <td>NaN</td>\n",
              "      <td>Q</td>\n",
              "      <td>0</td>\n",
              "      <td>0</td>\n",
              "    </tr>\n",
              "    <tr>\n",
              "      <th>6</th>\n",
              "      <td>7</td>\n",
              "      <td>0</td>\n",
              "      <td>1</td>\n",
              "      <td>McCarthy, Mr. Timothy J</td>\n",
              "      <td>male</td>\n",
              "      <td>54.0</td>\n",
              "      <td>0</td>\n",
              "      <td>0</td>\n",
              "      <td>17463</td>\n",
              "      <td>51.8625</td>\n",
              "      <td>E46</td>\n",
              "      <td>S</td>\n",
              "      <td>0</td>\n",
              "      <td>1</td>\n",
              "    </tr>\n",
              "    <tr>\n",
              "      <th>7</th>\n",
              "      <td>8</td>\n",
              "      <td>0</td>\n",
              "      <td>3</td>\n",
              "      <td>Palsson, Master. Gosta Leonard</td>\n",
              "      <td>male</td>\n",
              "      <td>2.0</td>\n",
              "      <td>3</td>\n",
              "      <td>1</td>\n",
              "      <td>349909</td>\n",
              "      <td>21.0750</td>\n",
              "      <td>NaN</td>\n",
              "      <td>S</td>\n",
              "      <td>0</td>\n",
              "      <td>0</td>\n",
              "    </tr>\n",
              "  </tbody>\n",
              "</table>\n",
              "</div>"
            ],
            "text/plain": [
              "   PassengerId  Survived  Pclass  ... Embarked Sex_bin  prev\n",
              "0            1         0       3  ...        S       0     0\n",
              "3            4         1       1  ...        S       1     1\n",
              "5            6         0       3  ...        Q       0     0\n",
              "6            7         0       1  ...        S       0     1\n",
              "7            8         0       3  ...        S       0     0\n",
              "\n",
              "[5 rows x 14 columns]"
            ]
          },
          "metadata": {
            "tags": []
          },
          "execution_count": 60
        }
      ]
    },
    {
      "cell_type": "code",
      "metadata": {
        "id": "iAYBr_RdNOa1",
        "colab_type": "code",
        "colab": {
          "base_uri": "https://localhost:8080/",
          "height": 34
        },
        "outputId": "7a9a818a-1048-4ee0-c7d3-ef1697a2066a"
      },
      "source": [
        "X_valid_check.shape"
      ],
      "execution_count": 62,
      "outputs": [
        {
          "output_type": "execute_result",
          "data": {
            "text/plain": [
              "(445, 14)"
            ]
          },
          "metadata": {
            "tags": []
          },
          "execution_count": 62
        }
      ]
    },
    {
      "cell_type": "code",
      "metadata": {
        "id": "js4BDuNSNOXA",
        "colab_type": "code",
        "colab": {
          "base_uri": "https://localhost:8080/",
          "height": 204
        },
        "outputId": "eae5db44-a616-4ee7-c144-111ddf5da4b9"
      },
      "source": [
        "erros = X_valid_check[X_valid_check['Survived'] != X_valid_check['prev']]\n",
        "erros = erros[['PassengerId',\t'Pclass',\t'Name',\t'Sex',\t'Age',\t'SibSp',\t'Parch',\t'Ticket',\t'Fare', 'Cabin',\t'Embarked',\t'Sex_bin',\t'prev', 'Survived']]\n",
        "erros.head()"
      ],
      "execution_count": 94,
      "outputs": [
        {
          "output_type": "execute_result",
          "data": {
            "text/html": [
              "<div>\n",
              "<style scoped>\n",
              "    .dataframe tbody tr th:only-of-type {\n",
              "        vertical-align: middle;\n",
              "    }\n",
              "\n",
              "    .dataframe tbody tr th {\n",
              "        vertical-align: top;\n",
              "    }\n",
              "\n",
              "    .dataframe thead th {\n",
              "        text-align: right;\n",
              "    }\n",
              "</style>\n",
              "<table border=\"1\" class=\"dataframe\">\n",
              "  <thead>\n",
              "    <tr style=\"text-align: right;\">\n",
              "      <th></th>\n",
              "      <th>PassengerId</th>\n",
              "      <th>Pclass</th>\n",
              "      <th>Name</th>\n",
              "      <th>Sex</th>\n",
              "      <th>Age</th>\n",
              "      <th>SibSp</th>\n",
              "      <th>Parch</th>\n",
              "      <th>Ticket</th>\n",
              "      <th>Fare</th>\n",
              "      <th>Cabin</th>\n",
              "      <th>Embarked</th>\n",
              "      <th>Sex_bin</th>\n",
              "      <th>prev</th>\n",
              "      <th>Survived</th>\n",
              "    </tr>\n",
              "  </thead>\n",
              "  <tbody>\n",
              "    <tr>\n",
              "      <th>6</th>\n",
              "      <td>7</td>\n",
              "      <td>1</td>\n",
              "      <td>McCarthy, Mr. Timothy J</td>\n",
              "      <td>male</td>\n",
              "      <td>54.0</td>\n",
              "      <td>0</td>\n",
              "      <td>0</td>\n",
              "      <td>17463</td>\n",
              "      <td>51.8625</td>\n",
              "      <td>E46</td>\n",
              "      <td>S</td>\n",
              "      <td>0</td>\n",
              "      <td>1</td>\n",
              "      <td>0</td>\n",
              "    </tr>\n",
              "    <tr>\n",
              "      <th>17</th>\n",
              "      <td>18</td>\n",
              "      <td>2</td>\n",
              "      <td>Williams, Mr. Charles Eugene</td>\n",
              "      <td>male</td>\n",
              "      <td>NaN</td>\n",
              "      <td>0</td>\n",
              "      <td>0</td>\n",
              "      <td>244373</td>\n",
              "      <td>13.0000</td>\n",
              "      <td>NaN</td>\n",
              "      <td>S</td>\n",
              "      <td>0</td>\n",
              "      <td>0</td>\n",
              "      <td>1</td>\n",
              "    </tr>\n",
              "    <tr>\n",
              "      <th>23</th>\n",
              "      <td>24</td>\n",
              "      <td>1</td>\n",
              "      <td>Sloper, Mr. William Thompson</td>\n",
              "      <td>male</td>\n",
              "      <td>28.0</td>\n",
              "      <td>0</td>\n",
              "      <td>0</td>\n",
              "      <td>113788</td>\n",
              "      <td>35.5000</td>\n",
              "      <td>A6</td>\n",
              "      <td>S</td>\n",
              "      <td>0</td>\n",
              "      <td>0</td>\n",
              "      <td>1</td>\n",
              "    </tr>\n",
              "    <tr>\n",
              "      <th>25</th>\n",
              "      <td>26</td>\n",
              "      <td>3</td>\n",
              "      <td>Asplund, Mrs. Carl Oscar (Selma Augusta Emilia...</td>\n",
              "      <td>female</td>\n",
              "      <td>38.0</td>\n",
              "      <td>1</td>\n",
              "      <td>5</td>\n",
              "      <td>347077</td>\n",
              "      <td>31.3875</td>\n",
              "      <td>NaN</td>\n",
              "      <td>S</td>\n",
              "      <td>1</td>\n",
              "      <td>0</td>\n",
              "      <td>1</td>\n",
              "    </tr>\n",
              "    <tr>\n",
              "      <th>27</th>\n",
              "      <td>28</td>\n",
              "      <td>1</td>\n",
              "      <td>Fortune, Mr. Charles Alexander</td>\n",
              "      <td>male</td>\n",
              "      <td>19.0</td>\n",
              "      <td>3</td>\n",
              "      <td>2</td>\n",
              "      <td>19950</td>\n",
              "      <td>263.0000</td>\n",
              "      <td>C23 C25 C27</td>\n",
              "      <td>S</td>\n",
              "      <td>0</td>\n",
              "      <td>1</td>\n",
              "      <td>0</td>\n",
              "    </tr>\n",
              "  </tbody>\n",
              "</table>\n",
              "</div>"
            ],
            "text/plain": [
              "    PassengerId  Pclass  ... prev Survived\n",
              "6             7       1  ...    1        0\n",
              "17           18       2  ...    0        1\n",
              "23           24       1  ...    0        1\n",
              "25           26       3  ...    0        1\n",
              "27           28       1  ...    1        0\n",
              "\n",
              "[5 rows x 14 columns]"
            ]
          },
          "metadata": {
            "tags": []
          },
          "execution_count": 94
        }
      ]
    },
    {
      "cell_type": "markdown",
      "metadata": {
        "id": "xTZpWhEOR-YE",
        "colab_type": "text"
      },
      "source": [
        "Novas variáveis"
      ]
    },
    {
      "cell_type": "code",
      "metadata": {
        "id": "shZeHND5R9Wa",
        "colab_type": "code",
        "colab": {}
      },
      "source": [
        "train['Embarked_S'] = (train['Embarked'] == 'S').astype(int)\n",
        "train['Embarked_C'] = (train['Embarked'] == 'C').astype(int)\n",
        "#train['Embarked_Q'] = (train['Embarked'] == 'Q').astype(int)\n",
        "\n",
        "train['Cabine_nula'] = train['Cabin'].isnull().astype(int)\n",
        "\n",
        "train['Nome_contem_Miss'] = train['Name'].str.contains('Miss').astype(int)\n",
        "train['Nome_contem_Mrs'] = train['Name'].str.contains('Mrs').astype(int)\n",
        "train['Nome_contem_Master'] = train['Name'].str.contains('Master').astype(int)\n",
        "train['Nome_contem_Col'] = train['Name'].str.contains('Col').astype(int)\n",
        "train['Nome_contem_Major'] = train['Name'].str.contains('Major').astype(int)\n",
        "train['Nome_contem_Mr'] = train['Name'].str.contains('Mr').astype(int)"
      ],
      "execution_count": 97,
      "outputs": []
    },
    {
      "cell_type": "code",
      "metadata": {
        "id": "3h22BDd5R9gt",
        "colab_type": "code",
        "colab": {}
      },
      "source": [
        "variaveis = ['Sex_bin', 'Age', 'Pclass', 'SibSp', 'Parch', 'Fare', 'Embarked_S', 'Embarked_C', 'Cabine_nula', 'Nome_contem_Miss', 'Nome_contem_Mrs', 'Nome_contem_Master', 'Nome_contem_Col', 'Nome_contem_Major', 'Nome_contem_Mr']\n",
        "\n",
        "X= train[variaveis].fillna(-1)\n",
        "Y= train['Survived']"
      ],
      "execution_count": 100,
      "outputs": []
    },
    {
      "cell_type": "code",
      "metadata": {
        "id": "a28XQO2yR9cx",
        "colab_type": "code",
        "colab": {
          "base_uri": "https://localhost:8080/",
          "height": 1000
        },
        "outputId": "42ca9850-847c-4cdf-9ea7-2da95c2b3996"
      },
      "source": [
        "resultados2 = []\n",
        "i = 0\n",
        "kf = RepeatedKFold(n_splits=2, n_repeats=10, random_state=1)\n",
        "for linhas_treino, linhas_valid in kf.split(X):\n",
        "  i = i + 1\n",
        "  print('Repetição', i)\n",
        "  print('Treino:', linhas_treino.shape[0])\n",
        "  print('Valid', linhas_valid.shape[0])\n",
        "\n",
        "  X_treino, X_valid = X.iloc[linhas_treino], X.iloc[linhas_valid]\n",
        "  Y_treino, Y_valid = Y.iloc[linhas_treino], Y.iloc[linhas_valid]\n",
        "\n",
        "  modelo.fit(X_treino, Y_treino)\n",
        "  prev = modelo.predict(X_valid)\n",
        "  acc = np.mean(Y_valid == prev)\n",
        "  resultados2.append(acc)\n",
        "  print('Acc:', acc)\n",
        "  print()\n",
        "  \n",
        "print('Média:', np.mean(resultados))"
      ],
      "execution_count": 99,
      "outputs": [
        {
          "output_type": "stream",
          "text": [
            "Repetição 1\n",
            "Treino: 445\n",
            "Valid 446\n",
            "Acc: 0.7892376681614349\n",
            "\n",
            "Repetição 2\n",
            "Treino: 446\n",
            "Valid 445\n",
            "Acc: 0.8247191011235955\n",
            "\n",
            "Repetição 3\n",
            "Treino: 445\n",
            "Valid 446\n",
            "Acc: 0.7937219730941704\n",
            "\n",
            "Repetição 4\n",
            "Treino: 446\n",
            "Valid 445\n",
            "Acc: 0.8382022471910112\n",
            "\n",
            "Repetição 5\n",
            "Treino: 445\n",
            "Valid 446\n",
            "Acc: 0.7825112107623319\n",
            "\n",
            "Repetição 6\n",
            "Treino: 446\n",
            "Valid 445\n",
            "Acc: 0.8089887640449438\n",
            "\n",
            "Repetição 7\n",
            "Treino: 445\n",
            "Valid 446\n",
            "Acc: 0.7713004484304933\n",
            "\n",
            "Repetição 8\n",
            "Treino: 446\n",
            "Valid 445\n",
            "Acc: 0.8044943820224719\n",
            "\n",
            "Repetição 9\n",
            "Treino: 445\n",
            "Valid 446\n",
            "Acc: 0.8026905829596412\n",
            "\n",
            "Repetição 10\n",
            "Treino: 446\n",
            "Valid 445\n",
            "Acc: 0.8112359550561797\n",
            "\n",
            "Repetição 11\n",
            "Treino: 445\n",
            "Valid 446\n",
            "Acc: 0.8183856502242153\n",
            "\n",
            "Repetição 12\n",
            "Treino: 446\n",
            "Valid 445\n",
            "Acc: 0.802247191011236\n",
            "\n",
            "Repetição 13\n",
            "Treino: 445\n",
            "Valid 446\n",
            "Acc: 0.8228699551569507\n",
            "\n",
            "Repetição 14\n",
            "Treino: 446\n",
            "Valid 445\n",
            "Acc: 0.8\n",
            "\n",
            "Repetição 15\n",
            "Treino: 445\n",
            "Valid 446\n",
            "Acc: 0.8318385650224215\n",
            "\n",
            "Repetição 16\n",
            "Treino: 446\n",
            "Valid 445\n",
            "Acc: 0.802247191011236\n",
            "\n",
            "Repetição 17\n",
            "Treino: 445\n",
            "Valid 446\n",
            "Acc: 0.8026905829596412\n",
            "\n",
            "Repetição 18\n",
            "Treino: 446\n",
            "Valid 445\n",
            "Acc: 0.8044943820224719\n",
            "\n",
            "Repetição 19\n",
            "Treino: 445\n",
            "Valid 446\n",
            "Acc: 0.8004484304932735\n",
            "\n",
            "Repetição 20\n",
            "Treino: 446\n",
            "Valid 445\n",
            "Acc: 0.8\n",
            "\n",
            "Média: 0.7991051544314003\n"
          ],
          "name": "stdout"
        }
      ]
    },
    {
      "cell_type": "code",
      "metadata": {
        "id": "uRfMqDube41G",
        "colab_type": "code",
        "colab": {
          "base_uri": "https://localhost:8080/",
          "height": 34
        },
        "outputId": "b7a7a8f5-829e-4bde-95f0-f398a9f363be"
      },
      "source": [
        "#%matplotlib inline\n",
        "#%pylab inline\n",
        "resultados2"
      ],
      "execution_count": 77,
      "outputs": [
        {
          "output_type": "execute_result",
          "data": {
            "text/plain": [
              "[]"
            ]
          },
          "metadata": {
            "tags": []
          },
          "execution_count": 77
        }
      ]
    },
    {
      "cell_type": "code",
      "metadata": {
        "id": "3pwfgCOOfPdf",
        "colab_type": "code",
        "colab": {
          "base_uri": "https://localhost:8080/",
          "height": 435
        },
        "outputId": "33f17278-e307-4e73-ecac-7f7a5fba4385"
      },
      "source": [
        "pylab.hist(resultados2), pylab.hist(resultados)"
      ],
      "execution_count": 96,
      "outputs": [
        {
          "output_type": "execute_result",
          "data": {
            "text/plain": [
              "((array([1., 1., 1., 1., 9., 2., 0., 3., 0., 2.]),\n",
              "  array([0.77130045, 0.77799063, 0.78468081, 0.79137099, 0.79806117,\n",
              "         0.80475135, 0.81144153, 0.81813171, 0.82482189, 0.83151207,\n",
              "         0.83820225]),\n",
              "  <a list of 10 Patch objects>),\n",
              " (array([3., 1., 1., 2., 3., 4., 1., 1., 2., 2.]),\n",
              "  array([0.77078652, 0.77662921, 0.78247191, 0.78831461, 0.7941573 ,\n",
              "         0.8       , 0.8058427 , 0.81168539, 0.81752809, 0.82337079,\n",
              "         0.82921348]),\n",
              "  <a list of 10 Patch objects>))"
            ]
          },
          "metadata": {
            "tags": []
          },
          "execution_count": 96
        },
        {
          "output_type": "display_data",
          "data": {
            "image/png": "[encoded data removed]",
            "text/plain": [
              "<Figure size 432x288 with 1 Axes>"
            ]
          },
          "metadata": {
            "tags": [],
            "needs_background": "light"
          }
        }
      ]
    },
    {
      "cell_type": "markdown",
      "metadata": {
        "id": "gZq6y2GoidBG",
        "colab_type": "text"
      },
      "source": [
        "Usando Sex_bin e Age : Média: 0.757"
      ]
    },
    {
      "cell_type": "markdown",
      "metadata": {
        "id": "iChMRaNgj74u",
        "colab_type": "text"
      },
      "source": [
        "Usando Sex_bin, Age, Pclass, SibSp, Parch e Fare : Média: 0.799"
      ]
    },
    {
      "cell_type": "markdown",
      "metadata": {
        "id": "vZ2PMFxYVkqB",
        "colab_type": "text"
      },
      "source": [
        "Usando ['Sex_bin', 'Age', 'Pclass', 'SibSp', 'Parch', 'Fare', 'Embarked_S', 'Embarked_C', 'Cabine_nula', 'Nome_contem_Miss', 'Nome_contem_Mrs', 'Nome_contem_Master', 'Nome_contem_Col', 'Nome_contem_Major', 'Nome_contem_Mr'] = 0.799"
      ]
    },
    {
      "cell_type": "markdown",
      "metadata": {
        "id": "M8ZtWtHyWXZv",
        "colab_type": "text"
      },
      "source": [
        "# Retreinar o modelo"
      ]
    },
    {
      "cell_type": "code",
      "metadata": {
        "id": "J2kJb3D8VmrL",
        "colab_type": "code",
        "colab": {}
      },
      "source": [
        "test['Embarked_S'] = (test['Embarked'] == 'S').astype(int)\n",
        "test['Embarked_C'] = (test['Embarked'] == 'C').astype(int)\n",
        "#test['Embarked_Q'] = (test['Embarked'] == 'Q').astype(int)\n",
        "\n",
        "test['Cabine_nula'] = test['Cabin'].isnull().astype(int)\n",
        "\n",
        "test['Nome_contem_Miss'] = test['Name'].str.contains('Miss').astype(int)\n",
        "test['Nome_contem_Mrs'] = test['Name'].str.contains('Mrs').astype(int)\n",
        "test['Nome_contem_Master'] = test['Name'].str.contains('Master').astype(int)\n",
        "test['Nome_contem_Col'] = test['Name'].str.contains('Col').astype(int)\n",
        "test['Nome_contem_Major'] = test['Name'].str.contains('Major').astype(int)\n",
        "test['Nome_contem_Mr'] = test['Name'].str.contains('Mr').astype(int)\n",
        "\n",
        "modelo = RandomForestClassifier(n_estimators=100, n_jobs=1, random_state=0)\n",
        "modelo.fit(X,Y)\n",
        "\n",
        "prev = modelo.predict(test[variaveis].fillna(-1))"
      ],
      "execution_count": 102,
      "outputs": []
    },
    {
      "cell_type": "code",
      "metadata": {
        "id": "BZ9HdV-IiiKI",
        "colab_type": "code",
        "colab": {}
      },
      "source": [
        "sub = pd.Series(prev, index=test['PassengerId'], name='Survived')"
      ],
      "execution_count": 103,
      "outputs": []
    },
    {
      "cell_type": "code",
      "metadata": {
        "id": "KuJq1D6kiiOJ",
        "colab_type": "code",
        "colab": {
          "base_uri": "https://localhost:8080/",
          "height": 34
        },
        "outputId": "ae1ea15f-210a-49b1-fcf5-0f6e4a29e0f0"
      },
      "source": [
        "sub.shape"
      ],
      "execution_count": 104,
      "outputs": [
        {
          "output_type": "execute_result",
          "data": {
            "text/plain": [
              "(418,)"
            ]
          },
          "metadata": {
            "tags": []
          },
          "execution_count": 104
        }
      ]
    },
    {
      "cell_type": "code",
      "metadata": {
        "id": "B6Y5GlY-IOGm",
        "colab_type": "code",
        "colab": {}
      },
      "source": [
        "sub.to_csv('sexto_modelo.csv')"
      ],
      "execution_count": 105,
      "outputs": []
    },
    {
      "cell_type": "code",
      "metadata": {
        "id": "sdrdWgBnIOQd",
        "colab_type": "code",
        "colab": {
          "base_uri": "https://localhost:8080/",
          "height": 187
        },
        "outputId": "7112d621-2318-4f2d-9010-29056aaca171"
      },
      "source": [
        "!head -n10 sexto_modelo.csv"
      ],
      "execution_count": 106,
      "outputs": [
        {
          "output_type": "stream",
          "text": [
            "PassengerId,Survived\n",
            "892,0\n",
            "893,0\n",
            "894,0\n",
            "895,1\n",
            "896,0\n",
            "897,0\n",
            "898,0\n",
            "899,0\n",
            "900,1\n"
          ],
          "name": "stdout"
        }
      ]
    }
  ]
}